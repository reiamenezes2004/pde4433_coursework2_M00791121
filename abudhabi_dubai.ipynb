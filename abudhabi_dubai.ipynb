{
 "cells": [
  {
   "cell_type": "code",
   "execution_count": 20,
   "id": "d5e0dd5e-a84d-4966-b31c-9070d06236f4",
   "metadata": {},
   "outputs": [],
   "source": [
    "#importing the required modules\n",
    "import os, json, csv\n",
    "import tensorflow as tf\n",
    "from tensorflow.keras import layers, models, Input\n",
    "from tensorflow.keras.models import load_model\n",
    "from tensorflow.keras.utils import load_img, img_to_array\n",
    "import tkinter as tk\n",
    "from tkinter import filedialog, Label, Button\n",
    "from PIL import Image, ImageTk\n",
    "import numpy as np\n",
    "from datetime import datetime, timedelta"
   ]
  },
  {
   "cell_type": "code",
   "execution_count": 21,
   "id": "85f4fbb3-9336-4178-be9b-06775e6259f7",
   "metadata": {},
   "outputs": [],
   "source": [
    "dataset_path = \"plates\"  #path containing the Dubai number plates\n",
    "img_height = 224 \n",
    "img_width = 224\n",
    "batch_size = 32  #number of images processing in one training batch\n",
    "epochs = 15  #training iterations\n",
    "model_path = \"trained_dubai_model.keras\"    #poth to save the trained model\n",
    "class_names_path = \"dubai_class_names.json\"   #store the class labels"
   ]
  },
  {
   "cell_type": "code",
   "execution_count": null,
   "id": "c3e443ae-9757-4bf0-8016-bfd35a544023",
   "metadata": {},
   "outputs": [],
   "source": []
  }
 ],
 "metadata": {
  "kernelspec": {
   "display_name": "Python 3 (ipykernel)",
   "language": "python",
   "name": "python3"
  },
  "language_info": {
   "codemirror_mode": {
    "name": "ipython",
    "version": 3
   },
   "file_extension": ".py",
   "mimetype": "text/x-python",
   "name": "python",
   "nbconvert_exporter": "python",
   "pygments_lexer": "ipython3",
   "version": "3.12.0"
  }
 },
 "nbformat": 4,
 "nbformat_minor": 5
}
