{
 "cells": [
  {
   "cell_type": "code",
   "execution_count": 20,
   "id": "d5e0dd5e-a84d-4966-b31c-9070d06236f4",
   "metadata": {},
   "outputs": [],
   "source": [
    "#importing the required modules\n",
    "import os, json, csv\n",
    "import tensorflow as tf\n",
    "from tensorflow.keras import layers, models, Input\n",
    "from tensorflow.keras.models import load_model\n",
    "from tensorflow.keras.utils import load_img, img_to_array\n",
    "import tkinter as tk\n",
    "from tkinter import filedialog, Label, Button\n",
    "from PIL import Image, ImageTk\n",
    "import numpy as np\n",
    "from datetime import datetime, timedelta"
   ]
  },
  {
   "cell_type": "code",
   "execution_count": 21,
   "id": "85f4fbb3-9336-4178-be9b-06775e6259f7",
   "metadata": {},
   "outputs": [],
   "source": [
    "dataset_path = \"plates\"  #path containing the Dubai number plates\n",
    "img_height = 224 \n",
    "img_width = 224\n",
    "batch_size = 32  #number of images processing in one training batch\n",
    "epochs = 15  #training iterations\n",
    "model_path = \"trained_dubai_model.keras\"    #poth to save the trained model\n",
    "class_names_path = \"dubai_class_names.json\"   #store the class labels"
   ]
  },
  {
   "cell_type": "code",
   "execution_count": 22,
   "id": "c3e443ae-9757-4bf0-8016-bfd35a544023",
   "metadata": {},
   "outputs": [
    {
     "name": "stdout",
     "output_type": "stream",
     "text": [
      "Found 348 files belonging to 10 classes.\n",
      "Using 279 files for training.\n",
      "Found 348 files belonging to 10 classes.\n",
      "Using 69 files for validation.\n",
      "Dubai Plate Classes: ['C5038', 'D77988', 'H79111', 'I9269', 'Q5121', 'R6729', 'S3227', 'S3601', 'U8804', 'X89099']\n"
     ]
    }
   ],
   "source": [
    "#loading dataset as 80% for training\n",
    "train_ds = tf.keras.utils.image_dataset_from_directory(\n",
    "    dataset_path,\n",
    "    validation_split=0.2,    #20% reserved for testing\n",
    "    subset=\"training\",\n",
    "    seed=123,    #consistent date shuffling\n",
    "    image_size=(img_height, img_width),\n",
    "    batch_size=batch_size\n",
    ")\n",
    "\n",
    "#loading dataset as 20% for testing\n",
    "val_ds = tf.keras.utils.image_dataset_from_directory(\n",
    "    dataset_path,\n",
    "    validation_split=0.2,\n",
    "    subset=\"validation\",\n",
    "    seed=123,\n",
    "    image_size=(img_height, img_width),\n",
    "    batch_size=batch_size\n",
    ")\n",
    "\n",
    "class_names = train_ds.class_names\n",
    "print(\"Dubai Plate Classes:\", class_names)"
   ]
  },
  {
   "cell_type": "code",
   "execution_count": 23,
   "id": "f0169994-75ac-4fc9-adcb-56f27a8b4393",
   "metadata": {},
   "outputs": [],
   "source": [
    "#performance optimization\n",
    "AUTOTUNE = tf.data.AUTOTUNE\n",
    "train_ds = train_ds.cache().shuffle(1000).prefetch(buffer_size=AUTOTUNE)\n",
    "val_ds = val_ds.cache().prefetch(buffer_size=AUTOTUNE)\n",
    "\n",
    "#augmentation layer\n",
    "data_augmentation = tf.keras.Sequential([\n",
    "    layers.RandomFlip(\"horizontal\"),\n",
    "    layers.RandomRotation(0.1),\n",
    "    layers.RandomZoom(0.1),\n",
    "    layers.RandomContrast(0.2),\n",
    "])"
   ]
  },
  {
   "cell_type": "code",
   "execution_count": 24,
   "id": "f72fbdc2-f6ea-4771-bc76-dd45194541c1",
   "metadata": {},
   "outputs": [
    {
     "data": {
      "text/html": [
       "<pre style=\"white-space:pre;overflow-x:auto;line-height:normal;font-family:Menlo,'DejaVu Sans Mono',consolas,'Courier New',monospace\"><span style=\"font-weight: bold\">Model: \"sequential_5\"</span>\n",
       "</pre>\n"
      ],
      "text/plain": [
       "\u001b[1mModel: \"sequential_5\"\u001b[0m\n"
      ]
     },
     "metadata": {},
     "output_type": "display_data"
    },
    {
     "data": {
      "text/html": [
       "<pre style=\"white-space:pre;overflow-x:auto;line-height:normal;font-family:Menlo,'DejaVu Sans Mono',consolas,'Courier New',monospace\">┏━━━━━━━━━━━━━━━━━━━━━━━━━━━━━━━━━━━━━━┳━━━━━━━━━━━━━━━━━━━━━━━━━━━━━┳━━━━━━━━━━━━━━━━━┓\n",
       "┃<span style=\"font-weight: bold\"> Layer (type)                         </span>┃<span style=\"font-weight: bold\"> Output Shape                </span>┃<span style=\"font-weight: bold\">         Param # </span>┃\n",
       "┡━━━━━━━━━━━━━━━━━━━━━━━━━━━━━━━━━━━━━━╇━━━━━━━━━━━━━━━━━━━━━━━━━━━━━╇━━━━━━━━━━━━━━━━━┩\n",
       "│ sequential_4 (<span style=\"color: #0087ff; text-decoration-color: #0087ff\">Sequential</span>)            │ (<span style=\"color: #00d7ff; text-decoration-color: #00d7ff\">None</span>, <span style=\"color: #00af00; text-decoration-color: #00af00\">224</span>, <span style=\"color: #00af00; text-decoration-color: #00af00\">224</span>, <span style=\"color: #00af00; text-decoration-color: #00af00\">3</span>)         │               <span style=\"color: #00af00; text-decoration-color: #00af00\">0</span> │\n",
       "├──────────────────────────────────────┼─────────────────────────────┼─────────────────┤\n",
       "│ rescaling_2 (<span style=\"color: #0087ff; text-decoration-color: #0087ff\">Rescaling</span>)              │ (<span style=\"color: #00d7ff; text-decoration-color: #00d7ff\">None</span>, <span style=\"color: #00af00; text-decoration-color: #00af00\">224</span>, <span style=\"color: #00af00; text-decoration-color: #00af00\">224</span>, <span style=\"color: #00af00; text-decoration-color: #00af00\">3</span>)         │               <span style=\"color: #00af00; text-decoration-color: #00af00\">0</span> │\n",
       "├──────────────────────────────────────┼─────────────────────────────┼─────────────────┤\n",
       "│ conv2d_6 (<span style=\"color: #0087ff; text-decoration-color: #0087ff\">Conv2D</span>)                    │ (<span style=\"color: #00d7ff; text-decoration-color: #00d7ff\">None</span>, <span style=\"color: #00af00; text-decoration-color: #00af00\">222</span>, <span style=\"color: #00af00; text-decoration-color: #00af00\">222</span>, <span style=\"color: #00af00; text-decoration-color: #00af00\">32</span>)        │             <span style=\"color: #00af00; text-decoration-color: #00af00\">896</span> │\n",
       "├──────────────────────────────────────┼─────────────────────────────┼─────────────────┤\n",
       "│ max_pooling2d_6 (<span style=\"color: #0087ff; text-decoration-color: #0087ff\">MaxPooling2D</span>)       │ (<span style=\"color: #00d7ff; text-decoration-color: #00d7ff\">None</span>, <span style=\"color: #00af00; text-decoration-color: #00af00\">111</span>, <span style=\"color: #00af00; text-decoration-color: #00af00\">111</span>, <span style=\"color: #00af00; text-decoration-color: #00af00\">32</span>)        │               <span style=\"color: #00af00; text-decoration-color: #00af00\">0</span> │\n",
       "├──────────────────────────────────────┼─────────────────────────────┼─────────────────┤\n",
       "│ conv2d_7 (<span style=\"color: #0087ff; text-decoration-color: #0087ff\">Conv2D</span>)                    │ (<span style=\"color: #00d7ff; text-decoration-color: #00d7ff\">None</span>, <span style=\"color: #00af00; text-decoration-color: #00af00\">109</span>, <span style=\"color: #00af00; text-decoration-color: #00af00\">109</span>, <span style=\"color: #00af00; text-decoration-color: #00af00\">64</span>)        │          <span style=\"color: #00af00; text-decoration-color: #00af00\">18,496</span> │\n",
       "├──────────────────────────────────────┼─────────────────────────────┼─────────────────┤\n",
       "│ max_pooling2d_7 (<span style=\"color: #0087ff; text-decoration-color: #0087ff\">MaxPooling2D</span>)       │ (<span style=\"color: #00d7ff; text-decoration-color: #00d7ff\">None</span>, <span style=\"color: #00af00; text-decoration-color: #00af00\">54</span>, <span style=\"color: #00af00; text-decoration-color: #00af00\">54</span>, <span style=\"color: #00af00; text-decoration-color: #00af00\">64</span>)          │               <span style=\"color: #00af00; text-decoration-color: #00af00\">0</span> │\n",
       "├──────────────────────────────────────┼─────────────────────────────┼─────────────────┤\n",
       "│ conv2d_8 (<span style=\"color: #0087ff; text-decoration-color: #0087ff\">Conv2D</span>)                    │ (<span style=\"color: #00d7ff; text-decoration-color: #00d7ff\">None</span>, <span style=\"color: #00af00; text-decoration-color: #00af00\">52</span>, <span style=\"color: #00af00; text-decoration-color: #00af00\">52</span>, <span style=\"color: #00af00; text-decoration-color: #00af00\">128</span>)         │          <span style=\"color: #00af00; text-decoration-color: #00af00\">73,856</span> │\n",
       "├──────────────────────────────────────┼─────────────────────────────┼─────────────────┤\n",
       "│ max_pooling2d_8 (<span style=\"color: #0087ff; text-decoration-color: #0087ff\">MaxPooling2D</span>)       │ (<span style=\"color: #00d7ff; text-decoration-color: #00d7ff\">None</span>, <span style=\"color: #00af00; text-decoration-color: #00af00\">26</span>, <span style=\"color: #00af00; text-decoration-color: #00af00\">26</span>, <span style=\"color: #00af00; text-decoration-color: #00af00\">128</span>)         │               <span style=\"color: #00af00; text-decoration-color: #00af00\">0</span> │\n",
       "├──────────────────────────────────────┼─────────────────────────────┼─────────────────┤\n",
       "│ flatten_2 (<span style=\"color: #0087ff; text-decoration-color: #0087ff\">Flatten</span>)                  │ (<span style=\"color: #00d7ff; text-decoration-color: #00d7ff\">None</span>, <span style=\"color: #00af00; text-decoration-color: #00af00\">86528</span>)               │               <span style=\"color: #00af00; text-decoration-color: #00af00\">0</span> │\n",
       "├──────────────────────────────────────┼─────────────────────────────┼─────────────────┤\n",
       "│ dense_4 (<span style=\"color: #0087ff; text-decoration-color: #0087ff\">Dense</span>)                      │ (<span style=\"color: #00d7ff; text-decoration-color: #00d7ff\">None</span>, <span style=\"color: #00af00; text-decoration-color: #00af00\">128</span>)                 │      <span style=\"color: #00af00; text-decoration-color: #00af00\">11,075,712</span> │\n",
       "├──────────────────────────────────────┼─────────────────────────────┼─────────────────┤\n",
       "│ dense_5 (<span style=\"color: #0087ff; text-decoration-color: #0087ff\">Dense</span>)                      │ (<span style=\"color: #00d7ff; text-decoration-color: #00d7ff\">None</span>, <span style=\"color: #00af00; text-decoration-color: #00af00\">10</span>)                  │           <span style=\"color: #00af00; text-decoration-color: #00af00\">1,290</span> │\n",
       "└──────────────────────────────────────┴─────────────────────────────┴─────────────────┘\n",
       "</pre>\n"
      ],
      "text/plain": [
       "┏━━━━━━━━━━━━━━━━━━━━━━━━━━━━━━━━━━━━━━┳━━━━━━━━━━━━━━━━━━━━━━━━━━━━━┳━━━━━━━━━━━━━━━━━┓\n",
       "┃\u001b[1m \u001b[0m\u001b[1mLayer (type)                        \u001b[0m\u001b[1m \u001b[0m┃\u001b[1m \u001b[0m\u001b[1mOutput Shape               \u001b[0m\u001b[1m \u001b[0m┃\u001b[1m \u001b[0m\u001b[1m        Param #\u001b[0m\u001b[1m \u001b[0m┃\n",
       "┡━━━━━━━━━━━━━━━━━━━━━━━━━━━━━━━━━━━━━━╇━━━━━━━━━━━━━━━━━━━━━━━━━━━━━╇━━━━━━━━━━━━━━━━━┩\n",
       "│ sequential_4 (\u001b[38;5;33mSequential\u001b[0m)            │ (\u001b[38;5;45mNone\u001b[0m, \u001b[38;5;34m224\u001b[0m, \u001b[38;5;34m224\u001b[0m, \u001b[38;5;34m3\u001b[0m)         │               \u001b[38;5;34m0\u001b[0m │\n",
       "├──────────────────────────────────────┼─────────────────────────────┼─────────────────┤\n",
       "│ rescaling_2 (\u001b[38;5;33mRescaling\u001b[0m)              │ (\u001b[38;5;45mNone\u001b[0m, \u001b[38;5;34m224\u001b[0m, \u001b[38;5;34m224\u001b[0m, \u001b[38;5;34m3\u001b[0m)         │               \u001b[38;5;34m0\u001b[0m │\n",
       "├──────────────────────────────────────┼─────────────────────────────┼─────────────────┤\n",
       "│ conv2d_6 (\u001b[38;5;33mConv2D\u001b[0m)                    │ (\u001b[38;5;45mNone\u001b[0m, \u001b[38;5;34m222\u001b[0m, \u001b[38;5;34m222\u001b[0m, \u001b[38;5;34m32\u001b[0m)        │             \u001b[38;5;34m896\u001b[0m │\n",
       "├──────────────────────────────────────┼─────────────────────────────┼─────────────────┤\n",
       "│ max_pooling2d_6 (\u001b[38;5;33mMaxPooling2D\u001b[0m)       │ (\u001b[38;5;45mNone\u001b[0m, \u001b[38;5;34m111\u001b[0m, \u001b[38;5;34m111\u001b[0m, \u001b[38;5;34m32\u001b[0m)        │               \u001b[38;5;34m0\u001b[0m │\n",
       "├──────────────────────────────────────┼─────────────────────────────┼─────────────────┤\n",
       "│ conv2d_7 (\u001b[38;5;33mConv2D\u001b[0m)                    │ (\u001b[38;5;45mNone\u001b[0m, \u001b[38;5;34m109\u001b[0m, \u001b[38;5;34m109\u001b[0m, \u001b[38;5;34m64\u001b[0m)        │          \u001b[38;5;34m18,496\u001b[0m │\n",
       "├──────────────────────────────────────┼─────────────────────────────┼─────────────────┤\n",
       "│ max_pooling2d_7 (\u001b[38;5;33mMaxPooling2D\u001b[0m)       │ (\u001b[38;5;45mNone\u001b[0m, \u001b[38;5;34m54\u001b[0m, \u001b[38;5;34m54\u001b[0m, \u001b[38;5;34m64\u001b[0m)          │               \u001b[38;5;34m0\u001b[0m │\n",
       "├──────────────────────────────────────┼─────────────────────────────┼─────────────────┤\n",
       "│ conv2d_8 (\u001b[38;5;33mConv2D\u001b[0m)                    │ (\u001b[38;5;45mNone\u001b[0m, \u001b[38;5;34m52\u001b[0m, \u001b[38;5;34m52\u001b[0m, \u001b[38;5;34m128\u001b[0m)         │          \u001b[38;5;34m73,856\u001b[0m │\n",
       "├──────────────────────────────────────┼─────────────────────────────┼─────────────────┤\n",
       "│ max_pooling2d_8 (\u001b[38;5;33mMaxPooling2D\u001b[0m)       │ (\u001b[38;5;45mNone\u001b[0m, \u001b[38;5;34m26\u001b[0m, \u001b[38;5;34m26\u001b[0m, \u001b[38;5;34m128\u001b[0m)         │               \u001b[38;5;34m0\u001b[0m │\n",
       "├──────────────────────────────────────┼─────────────────────────────┼─────────────────┤\n",
       "│ flatten_2 (\u001b[38;5;33mFlatten\u001b[0m)                  │ (\u001b[38;5;45mNone\u001b[0m, \u001b[38;5;34m86528\u001b[0m)               │               \u001b[38;5;34m0\u001b[0m │\n",
       "├──────────────────────────────────────┼─────────────────────────────┼─────────────────┤\n",
       "│ dense_4 (\u001b[38;5;33mDense\u001b[0m)                      │ (\u001b[38;5;45mNone\u001b[0m, \u001b[38;5;34m128\u001b[0m)                 │      \u001b[38;5;34m11,075,712\u001b[0m │\n",
       "├──────────────────────────────────────┼─────────────────────────────┼─────────────────┤\n",
       "│ dense_5 (\u001b[38;5;33mDense\u001b[0m)                      │ (\u001b[38;5;45mNone\u001b[0m, \u001b[38;5;34m10\u001b[0m)                  │           \u001b[38;5;34m1,290\u001b[0m │\n",
       "└──────────────────────────────────────┴─────────────────────────────┴─────────────────┘\n"
      ]
     },
     "metadata": {},
     "output_type": "display_data"
    },
    {
     "data": {
      "text/html": [
       "<pre style=\"white-space:pre;overflow-x:auto;line-height:normal;font-family:Menlo,'DejaVu Sans Mono',consolas,'Courier New',monospace\"><span style=\"font-weight: bold\"> Total params: </span><span style=\"color: #00af00; text-decoration-color: #00af00\">11,170,250</span> (42.61 MB)\n",
       "</pre>\n"
      ],
      "text/plain": [
       "\u001b[1m Total params: \u001b[0m\u001b[38;5;34m11,170,250\u001b[0m (42.61 MB)\n"
      ]
     },
     "metadata": {},
     "output_type": "display_data"
    },
    {
     "data": {
      "text/html": [
       "<pre style=\"white-space:pre;overflow-x:auto;line-height:normal;font-family:Menlo,'DejaVu Sans Mono',consolas,'Courier New',monospace\"><span style=\"font-weight: bold\"> Trainable params: </span><span style=\"color: #00af00; text-decoration-color: #00af00\">11,170,250</span> (42.61 MB)\n",
       "</pre>\n"
      ],
      "text/plain": [
       "\u001b[1m Trainable params: \u001b[0m\u001b[38;5;34m11,170,250\u001b[0m (42.61 MB)\n"
      ]
     },
     "metadata": {},
     "output_type": "display_data"
    },
    {
     "data": {
      "text/html": [
       "<pre style=\"white-space:pre;overflow-x:auto;line-height:normal;font-family:Menlo,'DejaVu Sans Mono',consolas,'Courier New',monospace\"><span style=\"font-weight: bold\"> Non-trainable params: </span><span style=\"color: #00af00; text-decoration-color: #00af00\">0</span> (0.00 B)\n",
       "</pre>\n"
      ],
      "text/plain": [
       "\u001b[1m Non-trainable params: \u001b[0m\u001b[38;5;34m0\u001b[0m (0.00 B)\n"
      ]
     },
     "metadata": {},
     "output_type": "display_data"
    }
   ],
   "source": [
    "#CNN model\n",
    "model = models.Sequential([\n",
    "    Input(shape=(img_height, img_width, 3)),\n",
    "    data_augmentation, \n",
    "    layers.Rescaling(1./255),\n",
    "\n",
    "    #convolutional features\n",
    "    layers.Conv2D(32, 3, activation='relu'),  #first convolunational layer with 32 filters\n",
    "    layers.MaxPooling2D(),\n",
    "\n",
    "    layers.Conv2D(64, 3, activation='relu'),  #second convolutional layer with 64 filters\n",
    "    layers.MaxPooling2D(),\n",
    "\n",
    "    layers.Conv2D(128, 3, activation='relu'),  #third convolutional layer with 128 filters\n",
    "    layers.MaxPooling2D(),\n",
    "\n",
    "    layers.Flatten(), #flattening the feature maps into a single vector\n",
    "    layers.Dense(128, activation='relu'),\n",
    "    layers.Dense(len(class_names), activation='softmax') #output layer for multi-class classification\n",
    "])\n",
    "\n",
    "#compiling the model with an Adam operator\n",
    "model.compile(optimizer='adam',\n",
    "              loss='sparse_categorical_crossentropy',\n",
    "              metrics=['accuracy'])\n",
    "\n",
    "#printing model architecture summary\n",
    "model.summary()"
   ]
  },
  {
   "cell_type": "code",
   "execution_count": 25,
   "id": "d282ac32-d874-4c05-9edc-47f06f652d18",
   "metadata": {},
   "outputs": [
    {
     "name": "stdout",
     "output_type": "stream",
     "text": [
      "Epoch 1/15\n",
      "\u001b[1m9/9\u001b[0m \u001b[32m━━━━━━━━━━━━━━━━━━━━\u001b[0m\u001b[37m\u001b[0m \u001b[1m14s\u001b[0m 955ms/step - accuracy: 0.1107 - loss: 3.1665 - val_accuracy: 0.1304 - val_loss: 2.0867\n",
      "Epoch 2/15\n",
      "\u001b[1m9/9\u001b[0m \u001b[32m━━━━━━━━━━━━━━━━━━━━\u001b[0m\u001b[37m\u001b[0m \u001b[1m8s\u001b[0m 867ms/step - accuracy: 0.1524 - loss: 2.0324 - val_accuracy: 0.1304 - val_loss: 1.9434\n",
      "Epoch 3/15\n",
      "\u001b[1m9/9\u001b[0m \u001b[32m━━━━━━━━━━━━━━━━━━━━\u001b[0m\u001b[37m\u001b[0m \u001b[1m8s\u001b[0m 886ms/step - accuracy: 0.2440 - loss: 1.9105 - val_accuracy: 0.3913 - val_loss: 1.7628\n",
      "Epoch 4/15\n",
      "\u001b[1m9/9\u001b[0m \u001b[32m━━━━━━━━━━━━━━━━━━━━\u001b[0m\u001b[37m\u001b[0m \u001b[1m9s\u001b[0m 997ms/step - accuracy: 0.3549 - loss: 1.7281 - val_accuracy: 0.6957 - val_loss: 1.2842\n",
      "Epoch 5/15\n",
      "\u001b[1m9/9\u001b[0m \u001b[32m━━━━━━━━━━━━━━━━━━━━\u001b[0m\u001b[37m\u001b[0m \u001b[1m10s\u001b[0m 1s/step - accuracy: 0.6348 - loss: 1.2330 - val_accuracy: 0.8696 - val_loss: 0.4858\n",
      "Epoch 6/15\n",
      "\u001b[1m9/9\u001b[0m \u001b[32m━━━━━━━━━━━━━━━━━━━━\u001b[0m\u001b[37m\u001b[0m \u001b[1m10s\u001b[0m 1s/step - accuracy: 0.8066 - loss: 0.6418 - val_accuracy: 1.0000 - val_loss: 0.2627\n",
      "Epoch 7/15\n",
      "\u001b[1m9/9\u001b[0m \u001b[32m━━━━━━━━━━━━━━━━━━━━\u001b[0m\u001b[37m\u001b[0m \u001b[1m10s\u001b[0m 1s/step - accuracy: 0.9476 - loss: 0.3117 - val_accuracy: 1.0000 - val_loss: 0.0647\n",
      "Epoch 8/15\n",
      "\u001b[1m9/9\u001b[0m \u001b[32m━━━━━━━━━━━━━━━━━━━━\u001b[0m\u001b[37m\u001b[0m \u001b[1m11s\u001b[0m 1s/step - accuracy: 0.9693 - loss: 0.0709 - val_accuracy: 1.0000 - val_loss: 0.0016\n",
      "Epoch 9/15\n",
      "\u001b[1m9/9\u001b[0m \u001b[32m━━━━━━━━━━━━━━━━━━━━\u001b[0m\u001b[37m\u001b[0m \u001b[1m9s\u001b[0m 971ms/step - accuracy: 0.9875 - loss: 0.0358 - val_accuracy: 1.0000 - val_loss: 0.0019\n",
      "Epoch 10/15\n",
      "\u001b[1m9/9\u001b[0m \u001b[32m━━━━━━━━━━━━━━━━━━━━\u001b[0m\u001b[37m\u001b[0m \u001b[1m8s\u001b[0m 891ms/step - accuracy: 0.9899 - loss: 0.0302 - val_accuracy: 1.0000 - val_loss: 4.2736e-04\n",
      "Epoch 11/15\n",
      "\u001b[1m9/9\u001b[0m \u001b[32m━━━━━━━━━━━━━━━━━━━━\u001b[0m\u001b[37m\u001b[0m \u001b[1m8s\u001b[0m 889ms/step - accuracy: 0.9945 - loss: 0.0225 - val_accuracy: 1.0000 - val_loss: 4.2030e-04\n",
      "Epoch 12/15\n",
      "\u001b[1m9/9\u001b[0m \u001b[32m━━━━━━━━━━━━━━━━━━━━\u001b[0m\u001b[37m\u001b[0m \u001b[1m8s\u001b[0m 891ms/step - accuracy: 0.9860 - loss: 0.0370 - val_accuracy: 1.0000 - val_loss: 0.0035\n",
      "Epoch 13/15\n",
      "\u001b[1m9/9\u001b[0m \u001b[32m━━━━━━━━━━━━━━━━━━━━\u001b[0m\u001b[37m\u001b[0m \u001b[1m10s\u001b[0m 1s/step - accuracy: 1.0000 - loss: 0.0134 - val_accuracy: 1.0000 - val_loss: 9.7704e-05\n",
      "Epoch 14/15\n",
      "\u001b[1m9/9\u001b[0m \u001b[32m━━━━━━━━━━━━━━━━━━━━\u001b[0m\u001b[37m\u001b[0m \u001b[1m10s\u001b[0m 1s/step - accuracy: 0.9800 - loss: 0.0635 - val_accuracy: 1.0000 - val_loss: 8.4730e-04\n",
      "Epoch 15/15\n",
      "\u001b[1m9/9\u001b[0m \u001b[32m━━━━━━━━━━━━━━━━━━━━\u001b[0m\u001b[37m\u001b[0m \u001b[1m10s\u001b[0m 1s/step - accuracy: 1.0000 - loss: 0.0042 - val_accuracy: 1.0000 - val_loss: 4.4877e-04\n",
      "Model and class names saved.\n"
     ]
    }
   ],
   "source": [
    "history = model.fit(\n",
    "    train_ds,  #training dataset\n",
    "    validation_data=val_ds, #testing dataset\n",
    "    epochs=15 #training epochs\n",
    ")\n",
    "\n",
    "model.save(\"trained_dubai_model.keras\")\n",
    "\n",
    "with open(\"class_names.json\", \"w\") as f:\n",
    "    json.dump(class_names, f)\n",
    "\n",
    "print(\"Model and class names saved.\")"
   ]
  },
  {
   "cell_type": "code",
   "execution_count": 28,
   "id": "bf44b1d2-0d95-4525-9b6b-9160dd4a6d2f",
   "metadata": {},
   "outputs": [],
   "source": [
    "IMG_SIZE = (224, 224)\n",
    "THRESHOLD = 0.90  #confidence threshold for predictions\n",
    "MODEL_PATH = \"trained_dubai_model.keras\"\n",
    "CLASS_NAMES_PATH = \"class_names.json\"\n",
    "LOG_FILE = \"parking_log.csv\"  #csv file to log entries/exits\n",
    "\n",
    "#loading the trained model and class labels\n",
    "model = load_model(MODEL_PATH)\n",
    "with open(CLASS_NAMES_PATH, \"r\") as f:\n",
    "    dubai_classes = json.load(f)\n",
    "\n",
    "if not os.path.exists(LOG_FILE):\n",
    "    with open(LOG_FILE, mode='w', newline='') as f:\n",
    "        writer = csv.writer(f)\n",
    "        writer.writerow([\"Plate\", \"Timestamp\", \"Action\", \"Status\", \"Remarks\"])  #csv file rows\n",
    "\n",
    "#setting up the GUI\n",
    "root = tk.Tk()\n",
    "root.title(\"Ticketless Parking System\")  #window heading\n",
    "root.geometry(\"550x450\") #window size\n",
    "root.configure(bg='#1e1e1e')\n",
    "\n",
    "#GUI widgets\n",
    "label = Label(root, text=\"Upload License Plate Image\", fg=\"white\", bg=\"#1e1e1e\", font=(\"Arial\", 16))\n",
    "label.pack(pady=20)\n",
    "\n",
    "result_label = Label(root, text=\"\", fg=\"white\", bg=\"#1e1e1e\", font=(\"Arial\", 13))\n",
    "result_label.pack(pady=10)\n",
    "\n",
    "img_label = Label(root, bg=\"#1e1e1e\")\n",
    "img_label.pack(pady=10)\n",
    "\n",
    "pay_button = None  #payment button initialized as none\n",
    "last_plate = None  #track last predicted plate\n",
    "\n",
    "#logging csv file\n",
    "def log_action(plate, action, status, remarks):\n",
    "    with open(LOG_FILE, mode='a', newline='') as f:\n",
    "        writer = csv.writer(f)\n",
    "        writer.writerow([plate, datetime.now().strftime(\"%Y-%m-%d %H:%M:%S\"), action, status, remarks])\n",
    "\n",
    "def recognize_plate(file_path):\n",
    "    img = load_img(file_path, target_size=IMG_SIZE)\n",
    "    img_array = img_to_array(img)\n",
    "    img_array = np.expand_dims(img_array, axis=0) / 255.0\n",
    "    predictions = model.predict(img_array)\n",
    "    predicted_index = np.argmax(predictions[0])\n",
    "    confidence = np.max(predictions[0])\n",
    "    plate = dubai_classes[predicted_index]\n",
    "    return plate, confidence\n",
    "\n",
    "def check_plate_logic(plate):\n",
    "    now = datetime.now()\n",
    "    entries = []\n",
    "    if os.path.exists(LOG_FILE):\n",
    "        with open(LOG_FILE, mode='r') as f:\n",
    "            reader = csv.reader(f)\n",
    "            next(reader)\n",
    "            entries = list(reader)\n",
    "\n",
    "    for row in entries[::-1]:  # check from latest entry\n",
    "        if row[0] == plate and row[3] == \"Granted\":\n",
    "            entry_time = datetime.strptime(row[1], \"%Y-%m-%d %H:%M:%S\")\n",
    "            if now - entry_time <= timedelta(seconds=30):\n",
    "                return \"✅ Access Granted. Barrier Opened.\", \"green\", \"Exit\", \"Granted\", \"Free within 10 min\"\n",
    "            else:\n",
    "                return \"💳 Payment Required. Click 'Pay' below.\", \"orange\", \"Exit\", \"Denied\", \"Payment Required\"\n",
    "    \n",
    "    log_action(plate, \"Entry\", \"Granted\", \"Access granted (new entry)\")\n",
    "    return f\"✅ Welcome {plate}. Access Granted.\", \"green\", \"Entry\", \"Granted\", \"New Entry\"\n",
    "\n",
    "def process_payment():\n",
    "    global last_plate\n",
    "    if last_plate:\n",
    "        log_action(last_plate, \"Payment\", \"Granted\", \"Paid and exit granted\")\n",
    "        result_label.configure(text=f\"✅ Thank you. Payment complete. You may exit now.\", fg=\"green\")\n",
    "        pay_button.pack_forget()\n",
    "\n",
    "def upload_plate_image():\n",
    "    global pay_button, last_plate\n",
    "    file_path = filedialog.askopenfilename(filetypes=[(\"Image files\", \"*.png *.jpg *.jpeg\")])\n",
    "    if not file_path:\n",
    "        return\n",
    "\n",
    "    img = Image.open(file_path)\n",
    "    img = img.resize((250, 100))\n",
    "    img_tk = ImageTk.PhotoImage(img)\n",
    "    img_label.configure(image=img_tk)\n",
    "    img_label.image = img_tk\n",
    "\n",
    "    #Abu Dhabi detection\n",
    "    if \"abudhabi\" in file_path.lower():\n",
    "        msg, color = \"❌ Access Denied. Abu Dhabi plate detected.\", \"red\"\n",
    "        result_label.configure(text=msg, fg=color)\n",
    "        log_action(\"Unknown\", \"Denied\", \"Denied\", \"Abu Dhabi plate\")\n",
    "        return\n",
    "\n",
    "    plate, confidence = recognize_plate(file_path)\n",
    "    last_plate = plate\n",
    "    print(f\"Prediction: {plate}, Confidence: {confidence:.2f}\")\n",
    "\n",
    "    #Dubai plate\n",
    "    if plate in dubai_classes and confidence >= THRESHOLD:\n",
    "        msg, color, action, status, remark = check_plate_logic(plate)\n",
    "        result_label.configure(text=msg, fg=color)\n",
    "        if \"Payment Required\" in remark:\n",
    "            if pay_button is None:\n",
    "                pay_button = tk.Button(root, text=\"Pay Now\", command=process_payment,\n",
    "                                       bg=\"orange\", fg=\"black\", font=(\"Arial\", 12), padx=10, pady=5)\n",
    "            pay_button.pack(pady=10)\n",
    "    else:\n",
    "        msg, color = f\"❌ Access Denied. Unknown or low confidence ({confidence:.2f})\", \"red\"\n",
    "        result_label.configure(text=msg, fg=color)\n",
    "        log_action(plate, \"Denied\", \"Denied\", f\"Low confidence ({confidence:.2f})\")\n",
    "\n",
    "#upload button \n",
    "button = tk.Button(root, text=\"Upload Plate Image\", command=upload_plate_image,\n",
    "                   bg=\"#4caf50\", fg=\"white\", font=(\"Arial\", 13), padx=12, pady=6)\n",
    "button.pack(pady=20)\n",
    "\n",
    "#launch the GUI\n",
    "root.mainloop()"
   ]
  },
  {
   "cell_type": "code",
   "execution_count": null,
   "id": "6c32606c-8054-4802-b186-4b32e2fb0447",
   "metadata": {},
   "outputs": [],
   "source": []
  }
 ],
 "metadata": {
  "kernelspec": {
   "display_name": "Python 3 (ipykernel)",
   "language": "python",
   "name": "python3"
  },
  "language_info": {
   "codemirror_mode": {
    "name": "ipython",
    "version": 3
   },
   "file_extension": ".py",
   "mimetype": "text/x-python",
   "name": "python",
   "nbconvert_exporter": "python",
   "pygments_lexer": "ipython3",
   "version": "3.12.0"
  }
 },
 "nbformat": 4,
 "nbformat_minor": 5
}
