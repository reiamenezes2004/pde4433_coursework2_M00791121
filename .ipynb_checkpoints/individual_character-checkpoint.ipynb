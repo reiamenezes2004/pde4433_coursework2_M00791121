{
 "cells": [
  {
   "cell_type": "code",
   "execution_count": 1,
   "id": "0824a6bf-0e84-411d-b857-07f9f2a5c462",
   "metadata": {},
   "outputs": [
    {
     "name": "stdout",
     "output_type": "stream",
     "text": [
      "character_labels.csv created with 1307 rows.\n"
     ]
    }
   ],
   "source": [
    "import pandas as pd\n",
    "\n",
    "df = pd.read_csv(\"labels_fullnumberplate.csv\")\n",
    "\n",
    "#new rows for character-level mapping\n",
    "rows = []\n",
    "\n",
    "for index, row in df.iterrows():\n",
    "    plate_number = row[\"plate_text\"].replace(\" \", \"\")  #remove spaces if any\n",
    "    for i, char in enumerate(plate_number):\n",
    "        filename = f\"{index + 1}_char{i}.png\"\n",
    "        rows.append({\"filename\": filename, \"label\": char})\n",
    "\n",
    "#save to new CSV\n",
    "char_df = pd.DataFrame(rows)\n",
    "char_df.to_csv(\"character_labels.csv\", index=False)\n",
    "\n",
    "print(\"character_labels.csv created with\", len(char_df), \"rows.\")"
   ]
  },
  {
   "cell_type": "code",
   "execution_count": null,
   "id": "ee7a534d-dbb2-4629-80b6-3a78f8f9b65b",
   "metadata": {},
   "outputs": [],
   "source": []
  }
 ],
 "metadata": {
  "kernelspec": {
   "display_name": "Python 3 (ipykernel)",
   "language": "python",
   "name": "python3"
  },
  "language_info": {
   "codemirror_mode": {
    "name": "ipython",
    "version": 3
   },
   "file_extension": ".py",
   "mimetype": "text/x-python",
   "name": "python",
   "nbconvert_exporter": "python",
   "pygments_lexer": "ipython3",
   "version": "3.12.0"
  }
 },
 "nbformat": 4,
 "nbformat_minor": 5
}
